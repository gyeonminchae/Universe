{
 "cells": [
  {
   "cell_type": "markdown",
   "id": "7c42ab33-5780-41f3-bc0a-6c734bc3994a",
   "metadata": {},
   "source": [
    "# 1. 기본설정"
   ]
  },
  {
   "cell_type": "code",
   "execution_count": 2,
   "id": "8118acf8-eb14-4844-a6d3-3fb90a86c7e0",
   "metadata": {
    "tags": []
   },
   "outputs": [],
   "source": [
    "# 시간 확인\n",
    "from tqdm import tqdm\n",
    "import time\n",
    "\n",
    "# 데이터 전처리 위한 라이브러리\n",
    "import numpy as np\n",
    "import numba\n",
    "import pandas as pd\n",
    "\n",
    "# Label Encoding을 위한 라이브러리 불러오기\n",
    "from sklearn.preprocessing import LabelEncoder\n",
    "\n",
    "# version 확인\n",
    "import skimage\n",
    "skimage.__version__\n",
    "\n",
    "import warnings\n",
    "warnings.filterwarnings('ignore')\n",
    "\n",
    "import os\n",
    "\n",
    "new_directory = 'C:/python'\n",
    "\n",
    "# 작업 디렉토리 변경\n",
    "os.chdir(new_directory)"
   ]
  },
  {
   "cell_type": "markdown",
   "id": "4f5b594e-7690-4968-9ddb-e36589fec197",
   "metadata": {},
   "source": [
    "Global Variables"
   ]
  },
  {
   "cell_type": "code",
   "execution_count": 3,
   "id": "02ff1261-ceef-45cb-9a45-a373c6e18fb4",
   "metadata": {
    "tags": []
   },
   "outputs": [],
   "source": [
    "import easydict\n",
    "args = easydict.EasyDict()\n",
    "\n",
    "# path 정보\n",
    "args.default_path = 'Budongsan/new_data/'\n",
    "\n",
    "args.random_state = 42\n",
    "args.results = []"
   ]
  },
  {
   "cell_type": "markdown",
   "id": "d43e127f-9c39-4ee5-88d1-965f5e664c29",
   "metadata": {
    "tags": []
   },
   "source": [
    "# 2. 데이터 불러오기"
   ]
  },
  {
   "cell_type": "markdown",
   "id": "5eb25374-ce09-4a48-b2d7-a9a606c9ad55",
   "metadata": {},
   "source": [
    "Load merge data"
   ]
  },
  {
   "cell_type": "code",
   "execution_count": 4,
   "id": "4b5cb9ca-1f84-43d0-8dd5-8df5bce633f3",
   "metadata": {
    "tags": []
   },
   "outputs": [],
   "source": [
    "ori_total_main = pd.read_csv(args.default_path + 'real_final_master_data.csv')"
   ]
  },
  {
   "cell_type": "code",
   "execution_count": 5,
   "id": "ec8d1a81-baca-44e8-b8ac-9a37f073b22b",
   "metadata": {
    "tags": []
   },
   "outputs": [
    {
     "data": {
      "text/plain": [
       "0           0\n",
       "1           0\n",
       "2           0\n",
       "3           0\n",
       "4           0\n",
       "         ... \n",
       "292460    335\n",
       "292461    335\n",
       "292462    335\n",
       "292463    335\n",
       "292464    335\n",
       "Name: 법정동_Encoded, Length: 292465, dtype: int32"
      ]
     },
     "execution_count": 5,
     "metadata": {},
     "output_type": "execute_result"
    }
   ],
   "source": [
    "# LabelEncoder 객체 생성 및 적용\n",
    "label_encoder = LabelEncoder()\n",
    "ori_total_main['법정동_Encoded'] = label_encoder.fit_transform(ori_total_main['자치구_법정동'])\n",
    "\n",
    "ori_total_main['법정동_Encoded']"
   ]
  },
  {
   "cell_type": "code",
   "execution_count": 6,
   "id": "3baf4bea-7332-4de9-b211-7ada81767c89",
   "metadata": {
    "tags": []
   },
   "outputs": [],
   "source": [
    "median_by_dong = ori_total_main.groupby('법정동')['거래금액(만원)'].median()\n",
    "ori_total_main['동별거래금액중앙값'] = ori_total_main['법정동'].map(median_by_dong)\n",
    "\n",
    "# '재건축' 컬럼 생성 및 값 할당\n",
    "ori_total_main['재건축'] = ori_total_main.apply(lambda row: 1 if (row['재건축 가능 여부'] == 1 and row['거래금액(만원)'] > row['동별거래금액중앙값']) else 0, axis=1)"
   ]
  },
  {
   "cell_type": "code",
   "execution_count": 8,
   "id": "076a71c7-0f6c-44cb-9507-c12c37745bf3",
   "metadata": {
    "tags": []
   },
   "outputs": [],
   "source": [
    "ori_total_main.loc[ori_total_main['단지명'].str.contains('힐스테이트'), '힐스테이트'] = 1\n",
    "ori_total_main.loc[ori_total_main['단지명'].str.contains('푸르지오'), '푸르지오'] = 1\n",
    "ori_total_main.loc[ori_total_main['단지명'].str.contains('더샵'), '더샵'] = 1\n",
    "ori_total_main.loc[ori_total_main['단지명'].str.contains('e편한세상'), 'e편한세상'] = 1\n",
    "ori_total_main.loc[ori_total_main['단지명'].str.contains('e-편한세상'), 'e편한세상'] = 1\n",
    "ori_total_main.loc[ori_total_main['단지명'].str.contains('이편한세상'), 'e편한세상'] = 1\n",
    "ori_total_main.loc[ori_total_main['단지명'].str.contains('이-편한세상'), 'e편한세상'] = 1\n",
    "ori_total_main.loc[ori_total_main['단지명'].str.contains('위브'), '위브'] = 1\n",
    "ori_total_main.loc[ori_total_main['단지명'].str.contains('자이'), '자이'] = 1"
   ]
  },
  {
   "cell_type": "code",
   "execution_count": 9,
   "id": "bbaaea34-e019-45ee-a350-97f0c6ed01f1",
   "metadata": {
    "tags": []
   },
   "outputs": [],
   "source": [
    "ori_total_main['㎡당_평균가격'] = ori_total_main['거래금액(만원)'] / ori_total_main['전용면적(㎡)']"
   ]
  },
  {
   "cell_type": "code",
   "execution_count": 10,
   "id": "b12ec039-1ffb-47e8-95bb-d77f3ccf2df8",
   "metadata": {
    "tags": []
   },
   "outputs": [
    {
     "name": "stderr",
     "output_type": "stream",
     "text": [
      "100%|████████████████████████████████████████████████████████████████████████████████████| 6/6 [00:00<00:00, 12.73it/s]\n"
     ]
    }
   ],
   "source": [
    "col=['힐스테이트', '푸르지오', '더샵', 'e편한세상', '위브', '자이']\n",
    "\n",
    "for i in tqdm(col):\n",
    "    ori_total_main[i]=ori_total_main[i].fillna(0)"
   ]
  },
  {
   "cell_type": "code",
   "execution_count": 11,
   "id": "11a4eb06-353b-45f3-bc63-8f82ab7817b2",
   "metadata": {
    "tags": []
   },
   "outputs": [],
   "source": [
    "# 표준편차가 10000 이상으로 차이나는 아파트들만 1로 인식하는 새로운 컬럼 생성\n",
    "\n",
    "indices = ori_total_main[ori_total_main['단지명'].str.contains('힐스테이트|푸르지오|더샵|e편한세상|e-편한세상|이편한세상|이-편한세상|위브|자이')].index\n",
    "ori_total_main.loc[indices, '브랜드여부'] = 1\n",
    "\n",
    "ori_total_main.브랜드여부=ori_total_main.브랜드여부.fillna(0)"
   ]
  },
  {
   "cell_type": "markdown",
   "id": "bef9fd63-39de-4d05-8183-85f6cdb9a5b9",
   "metadata": {
    "tags": []
   },
   "source": [
    "데이터 정리"
   ]
  },
  {
   "cell_type": "code",
   "execution_count": 12,
   "id": "5acb5429-de3f-42ae-a3f9-3fd16f5c8e8b",
   "metadata": {
    "tags": []
   },
   "outputs": [
    {
     "data": {
      "text/html": [
       "<div>\n",
       "<style scoped>\n",
       "    .dataframe tbody tr th:only-of-type {\n",
       "        vertical-align: middle;\n",
       "    }\n",
       "\n",
       "    .dataframe tbody tr th {\n",
       "        vertical-align: top;\n",
       "    }\n",
       "\n",
       "    .dataframe thead th {\n",
       "        text-align: right;\n",
       "    }\n",
       "</style>\n",
       "<table border=\"1\" class=\"dataframe\">\n",
       "  <thead>\n",
       "    <tr style=\"text-align: right;\">\n",
       "      <th></th>\n",
       "      <th>전용면적(㎡)</th>\n",
       "      <th>거래금액(만원)</th>\n",
       "      <th>층</th>\n",
       "      <th>건축년도</th>\n",
       "      <th>x</th>\n",
       "      <th>y</th>\n",
       "      <th>총전입</th>\n",
       "      <th>총전출</th>\n",
       "      <th>주민등록인구수</th>\n",
       "      <th>총생활인구수</th>\n",
       "      <th>...</th>\n",
       "      <th>연식</th>\n",
       "      <th>힐스테이트</th>\n",
       "      <th>푸르지오</th>\n",
       "      <th>더샵</th>\n",
       "      <th>e편한세상</th>\n",
       "      <th>위브</th>\n",
       "      <th>자이</th>\n",
       "      <th>브랜드여부</th>\n",
       "      <th>법정동_Encoded</th>\n",
       "      <th>재건축</th>\n",
       "    </tr>\n",
       "  </thead>\n",
       "  <tbody>\n",
       "    <tr>\n",
       "      <th>0</th>\n",
       "      <td>79.97</td>\n",
       "      <td>130000</td>\n",
       "      <td>4</td>\n",
       "      <td>1987.0</td>\n",
       "      <td>127.05593</td>\n",
       "      <td>37.476795</td>\n",
       "      <td>961.0</td>\n",
       "      <td>13256.0</td>\n",
       "      <td>7800.0</td>\n",
       "      <td>837615.719594</td>\n",
       "      <td>...</td>\n",
       "      <td>31.0</td>\n",
       "      <td>0.0</td>\n",
       "      <td>0.0</td>\n",
       "      <td>0.0</td>\n",
       "      <td>0.0</td>\n",
       "      <td>0.0</td>\n",
       "      <td>0.0</td>\n",
       "      <td>0</td>\n",
       "      <td>0</td>\n",
       "      <td>0</td>\n",
       "    </tr>\n",
       "    <tr>\n",
       "      <th>1</th>\n",
       "      <td>79.97</td>\n",
       "      <td>117000</td>\n",
       "      <td>2</td>\n",
       "      <td>1987.0</td>\n",
       "      <td>127.05593</td>\n",
       "      <td>37.476795</td>\n",
       "      <td>961.0</td>\n",
       "      <td>13256.0</td>\n",
       "      <td>7800.0</td>\n",
       "      <td>837615.719594</td>\n",
       "      <td>...</td>\n",
       "      <td>31.0</td>\n",
       "      <td>0.0</td>\n",
       "      <td>0.0</td>\n",
       "      <td>0.0</td>\n",
       "      <td>0.0</td>\n",
       "      <td>0.0</td>\n",
       "      <td>0.0</td>\n",
       "      <td>0</td>\n",
       "      <td>0</td>\n",
       "      <td>0</td>\n",
       "    </tr>\n",
       "    <tr>\n",
       "      <th>2</th>\n",
       "      <td>79.97</td>\n",
       "      <td>130000</td>\n",
       "      <td>1</td>\n",
       "      <td>1987.0</td>\n",
       "      <td>127.05593</td>\n",
       "      <td>37.476795</td>\n",
       "      <td>961.0</td>\n",
       "      <td>13256.0</td>\n",
       "      <td>7800.0</td>\n",
       "      <td>837615.719594</td>\n",
       "      <td>...</td>\n",
       "      <td>31.0</td>\n",
       "      <td>0.0</td>\n",
       "      <td>0.0</td>\n",
       "      <td>0.0</td>\n",
       "      <td>0.0</td>\n",
       "      <td>0.0</td>\n",
       "      <td>0.0</td>\n",
       "      <td>0</td>\n",
       "      <td>0</td>\n",
       "      <td>0</td>\n",
       "    </tr>\n",
       "    <tr>\n",
       "      <th>3</th>\n",
       "      <td>79.97</td>\n",
       "      <td>139500</td>\n",
       "      <td>2</td>\n",
       "      <td>1987.0</td>\n",
       "      <td>127.05593</td>\n",
       "      <td>37.476795</td>\n",
       "      <td>961.0</td>\n",
       "      <td>13256.0</td>\n",
       "      <td>7800.0</td>\n",
       "      <td>826003.757742</td>\n",
       "      <td>...</td>\n",
       "      <td>31.0</td>\n",
       "      <td>0.0</td>\n",
       "      <td>0.0</td>\n",
       "      <td>0.0</td>\n",
       "      <td>0.0</td>\n",
       "      <td>0.0</td>\n",
       "      <td>0.0</td>\n",
       "      <td>0</td>\n",
       "      <td>0</td>\n",
       "      <td>0</td>\n",
       "    </tr>\n",
       "    <tr>\n",
       "      <th>4</th>\n",
       "      <td>54.98</td>\n",
       "      <td>107500</td>\n",
       "      <td>5</td>\n",
       "      <td>1987.0</td>\n",
       "      <td>127.05593</td>\n",
       "      <td>37.476795</td>\n",
       "      <td>961.0</td>\n",
       "      <td>13256.0</td>\n",
       "      <td>7800.0</td>\n",
       "      <td>817527.898616</td>\n",
       "      <td>...</td>\n",
       "      <td>31.0</td>\n",
       "      <td>0.0</td>\n",
       "      <td>0.0</td>\n",
       "      <td>0.0</td>\n",
       "      <td>0.0</td>\n",
       "      <td>0.0</td>\n",
       "      <td>0.0</td>\n",
       "      <td>0</td>\n",
       "      <td>0</td>\n",
       "      <td>0</td>\n",
       "    </tr>\n",
       "  </tbody>\n",
       "</table>\n",
       "<p>5 rows × 70 columns</p>\n",
       "</div>"
      ],
      "text/plain": [
       "   전용면적(㎡)  거래금액(만원)  층    건축년도          x          y    총전입      총전출  \\\n",
       "0    79.97    130000  4  1987.0  127.05593  37.476795  961.0  13256.0   \n",
       "1    79.97    117000  2  1987.0  127.05593  37.476795  961.0  13256.0   \n",
       "2    79.97    130000  1  1987.0  127.05593  37.476795  961.0  13256.0   \n",
       "3    79.97    139500  2  1987.0  127.05593  37.476795  961.0  13256.0   \n",
       "4    54.98    107500  5  1987.0  127.05593  37.476795  961.0  13256.0   \n",
       "\n",
       "   주민등록인구수         총생활인구수  ...    연식  힐스테이트  푸르지오   더샵  e편한세상   위브   자이  \\\n",
       "0   7800.0  837615.719594  ...  31.0    0.0   0.0  0.0    0.0  0.0  0.0   \n",
       "1   7800.0  837615.719594  ...  31.0    0.0   0.0  0.0    0.0  0.0  0.0   \n",
       "2   7800.0  837615.719594  ...  31.0    0.0   0.0  0.0    0.0  0.0  0.0   \n",
       "3   7800.0  826003.757742  ...  31.0    0.0   0.0  0.0    0.0  0.0  0.0   \n",
       "4   7800.0  817527.898616  ...  31.0    0.0   0.0  0.0    0.0  0.0  0.0   \n",
       "\n",
       "   브랜드여부  법정동_Encoded  재건축  \n",
       "0      0            0    0  \n",
       "1      0            0    0  \n",
       "2      0            0    0  \n",
       "3      0            0    0  \n",
       "4      0            0    0  \n",
       "\n",
       "[5 rows x 70 columns]"
      ]
     },
     "execution_count": 12,
     "metadata": {},
     "output_type": "execute_result"
    }
   ],
   "source": [
    "ori_total_main.drop(['Unnamed: 0','시군구', '번지', '본번', '부번', '단지명', '시점', '계약일', '자치구', '도로명_apt', '시', '연도', '월', '도로명주소', '지번주소', '자치구_법정동', '법정동코드', '정류장 ID', '정류소명', '도로명_bus', '역사명', '학교명', '버스정류장_소요시간', '지하철역_소요시간', '공원_소요시간', '학교_소요시간', '법정동', '평단가', '재건축 가능 여부', '동별거래금액중앙값'], axis=1, inplace=True)\n",
    "ori_total_main.head()"
   ]
  },
  {
   "cell_type": "code",
   "execution_count": 13,
   "id": "ad33fb98-a208-4d3f-b205-86f134ba090e",
   "metadata": {
    "tags": []
   },
   "outputs": [
    {
     "data": {
      "text/html": [
       "<div>\n",
       "<style scoped>\n",
       "    .dataframe tbody tr th:only-of-type {\n",
       "        vertical-align: middle;\n",
       "    }\n",
       "\n",
       "    .dataframe tbody tr th {\n",
       "        vertical-align: top;\n",
       "    }\n",
       "\n",
       "    .dataframe thead th {\n",
       "        text-align: right;\n",
       "    }\n",
       "</style>\n",
       "<table border=\"1\" class=\"dataframe\">\n",
       "  <thead>\n",
       "    <tr style=\"text-align: right;\">\n",
       "      <th></th>\n",
       "      <th>전용면적(㎡)</th>\n",
       "      <th>거래금액(만원)</th>\n",
       "      <th>층</th>\n",
       "      <th>총전입</th>\n",
       "      <th>총전출</th>\n",
       "      <th>주민등록인구수</th>\n",
       "      <th>총생활인구수</th>\n",
       "      <th>버스정류장수</th>\n",
       "      <th>버스정류장_거리</th>\n",
       "      <th>지하철역 수</th>\n",
       "      <th>...</th>\n",
       "      <th>연식</th>\n",
       "      <th>힐스테이트</th>\n",
       "      <th>푸르지오</th>\n",
       "      <th>더샵</th>\n",
       "      <th>e편한세상</th>\n",
       "      <th>위브</th>\n",
       "      <th>자이</th>\n",
       "      <th>브랜드여부</th>\n",
       "      <th>법정동_Encoded</th>\n",
       "      <th>재건축</th>\n",
       "    </tr>\n",
       "  </thead>\n",
       "  <tbody>\n",
       "    <tr>\n",
       "      <th>0</th>\n",
       "      <td>79.97</td>\n",
       "      <td>130000</td>\n",
       "      <td>4</td>\n",
       "      <td>961.0</td>\n",
       "      <td>13256.0</td>\n",
       "      <td>7800.0</td>\n",
       "      <td>837615.719594</td>\n",
       "      <td>80.0</td>\n",
       "      <td>1.42919</td>\n",
       "      <td>2.0</td>\n",
       "      <td>...</td>\n",
       "      <td>31.0</td>\n",
       "      <td>0.0</td>\n",
       "      <td>0.0</td>\n",
       "      <td>0.0</td>\n",
       "      <td>0.0</td>\n",
       "      <td>0.0</td>\n",
       "      <td>0.0</td>\n",
       "      <td>0</td>\n",
       "      <td>0</td>\n",
       "      <td>0</td>\n",
       "    </tr>\n",
       "    <tr>\n",
       "      <th>1</th>\n",
       "      <td>79.97</td>\n",
       "      <td>117000</td>\n",
       "      <td>2</td>\n",
       "      <td>961.0</td>\n",
       "      <td>13256.0</td>\n",
       "      <td>7800.0</td>\n",
       "      <td>837615.719594</td>\n",
       "      <td>80.0</td>\n",
       "      <td>1.42919</td>\n",
       "      <td>2.0</td>\n",
       "      <td>...</td>\n",
       "      <td>31.0</td>\n",
       "      <td>0.0</td>\n",
       "      <td>0.0</td>\n",
       "      <td>0.0</td>\n",
       "      <td>0.0</td>\n",
       "      <td>0.0</td>\n",
       "      <td>0.0</td>\n",
       "      <td>0</td>\n",
       "      <td>0</td>\n",
       "      <td>0</td>\n",
       "    </tr>\n",
       "    <tr>\n",
       "      <th>2</th>\n",
       "      <td>79.97</td>\n",
       "      <td>130000</td>\n",
       "      <td>1</td>\n",
       "      <td>961.0</td>\n",
       "      <td>13256.0</td>\n",
       "      <td>7800.0</td>\n",
       "      <td>837615.719594</td>\n",
       "      <td>80.0</td>\n",
       "      <td>1.42919</td>\n",
       "      <td>2.0</td>\n",
       "      <td>...</td>\n",
       "      <td>31.0</td>\n",
       "      <td>0.0</td>\n",
       "      <td>0.0</td>\n",
       "      <td>0.0</td>\n",
       "      <td>0.0</td>\n",
       "      <td>0.0</td>\n",
       "      <td>0.0</td>\n",
       "      <td>0</td>\n",
       "      <td>0</td>\n",
       "      <td>0</td>\n",
       "    </tr>\n",
       "    <tr>\n",
       "      <th>3</th>\n",
       "      <td>79.97</td>\n",
       "      <td>139500</td>\n",
       "      <td>2</td>\n",
       "      <td>961.0</td>\n",
       "      <td>13256.0</td>\n",
       "      <td>7800.0</td>\n",
       "      <td>826003.757742</td>\n",
       "      <td>80.0</td>\n",
       "      <td>1.42919</td>\n",
       "      <td>2.0</td>\n",
       "      <td>...</td>\n",
       "      <td>31.0</td>\n",
       "      <td>0.0</td>\n",
       "      <td>0.0</td>\n",
       "      <td>0.0</td>\n",
       "      <td>0.0</td>\n",
       "      <td>0.0</td>\n",
       "      <td>0.0</td>\n",
       "      <td>0</td>\n",
       "      <td>0</td>\n",
       "      <td>0</td>\n",
       "    </tr>\n",
       "    <tr>\n",
       "      <th>4</th>\n",
       "      <td>54.98</td>\n",
       "      <td>107500</td>\n",
       "      <td>5</td>\n",
       "      <td>961.0</td>\n",
       "      <td>13256.0</td>\n",
       "      <td>7800.0</td>\n",
       "      <td>817527.898616</td>\n",
       "      <td>80.0</td>\n",
       "      <td>1.42919</td>\n",
       "      <td>2.0</td>\n",
       "      <td>...</td>\n",
       "      <td>31.0</td>\n",
       "      <td>0.0</td>\n",
       "      <td>0.0</td>\n",
       "      <td>0.0</td>\n",
       "      <td>0.0</td>\n",
       "      <td>0.0</td>\n",
       "      <td>0.0</td>\n",
       "      <td>0</td>\n",
       "      <td>0</td>\n",
       "      <td>0</td>\n",
       "    </tr>\n",
       "  </tbody>\n",
       "</table>\n",
       "<p>5 rows × 67 columns</p>\n",
       "</div>"
      ],
      "text/plain": [
       "   전용면적(㎡)  거래금액(만원)  층    총전입      총전출  주민등록인구수         총생활인구수  버스정류장수  \\\n",
       "0    79.97    130000  4  961.0  13256.0   7800.0  837615.719594    80.0   \n",
       "1    79.97    117000  2  961.0  13256.0   7800.0  837615.719594    80.0   \n",
       "2    79.97    130000  1  961.0  13256.0   7800.0  837615.719594    80.0   \n",
       "3    79.97    139500  2  961.0  13256.0   7800.0  826003.757742    80.0   \n",
       "4    54.98    107500  5  961.0  13256.0   7800.0  817527.898616    80.0   \n",
       "\n",
       "   버스정류장_거리  지하철역 수  ...    연식  힐스테이트  푸르지오   더샵  e편한세상   위브   자이  브랜드여부  \\\n",
       "0   1.42919     2.0  ...  31.0    0.0   0.0  0.0    0.0  0.0  0.0      0   \n",
       "1   1.42919     2.0  ...  31.0    0.0   0.0  0.0    0.0  0.0  0.0      0   \n",
       "2   1.42919     2.0  ...  31.0    0.0   0.0  0.0    0.0  0.0  0.0      0   \n",
       "3   1.42919     2.0  ...  31.0    0.0   0.0  0.0    0.0  0.0  0.0      0   \n",
       "4   1.42919     2.0  ...  31.0    0.0   0.0  0.0    0.0  0.0  0.0      0   \n",
       "\n",
       "   법정동_Encoded  재건축  \n",
       "0            0    0  \n",
       "1            0    0  \n",
       "2            0    0  \n",
       "3            0    0  \n",
       "4            0    0  \n",
       "\n",
       "[5 rows x 67 columns]"
      ]
     },
     "execution_count": 13,
     "metadata": {},
     "output_type": "execute_result"
    }
   ],
   "source": [
    "ori_total_main.drop(['x', 'y', '건축년도'], axis=1, inplace=True)\n",
    "ori_total_main.head()"
   ]
  },
  {
   "cell_type": "code",
   "execution_count": 14,
   "id": "ce997354-d0f2-47dd-abe1-8123e438ab5d",
   "metadata": {
    "tags": []
   },
   "outputs": [],
   "source": [
    "# 정수값을 양수로 변환하는 함수 정의\n",
    "def make_positive(value):\n",
    "    if value < 0:\n",
    "        return -value\n",
    "    return value"
   ]
  },
  {
   "cell_type": "code",
   "execution_count": 15,
   "id": "e2f5ae43-d6a7-471e-ace1-5e2f5ffa6412",
   "metadata": {
    "tags": []
   },
   "outputs": [],
   "source": [
    "# 특정 열에 있는 모든 값을 양수로 변환\n",
    "target_column = '층'\n",
    "ori_total_main[target_column] = ori_total_main[target_column].apply(make_positive)"
   ]
  },
  {
   "cell_type": "code",
   "execution_count": 16,
   "id": "357c4564-cf7e-42a7-9801-f022316028f0",
   "metadata": {
    "tags": []
   },
   "outputs": [
    {
     "name": "stdout",
     "output_type": "stream",
     "text": [
      "(292465, 68)\n",
      "(292465, 49)\n"
     ]
    }
   ],
   "source": [
    "business_cols = ['건설업', '공공 행정, 국방 및 사회보장 행정', '광업','교육 서비스업', '금융 및 보험업', '농업, 임업 및 어업', '도매 및 소매업', '보건업 및 사회복지 서비스업',\n",
    "           '부동산업', '사업시설 관리, 사업 지원 및 임대 서비스업', '수도, 하수 및 폐기물 처리, 원료 재생업',\n",
    "           '숙박 및 음식점업', '예술, 스포츠 및 여가관련 서비스업', '운수 및 창고업',\n",
    "           '전기, 가스, 증기 및 공기 조절 공급업', '전문, 과학 및 기술 서비스업', '정보통신업', '제조업',\n",
    "           '협회 및 단체, 수리 및 기타 개인 서비스업']\n",
    "\n",
    "ori_total_main['사업체'] = ori_total_main[business_cols].apply(lambda cols : cols.sum(),axis = 1)\n",
    "\n",
    "#컬럼 제거\n",
    "print(ori_total_main.shape)\n",
    "ori_total_main.drop(business_cols, axis =1, inplace =True)\n",
    "\n",
    "print(ori_total_main.shape)"
   ]
  },
  {
   "cell_type": "code",
   "execution_count": 17,
   "id": "b5c560e6-87dc-405f-ab90-e0f8f770f4da",
   "metadata": {
    "tags": []
   },
   "outputs": [
    {
     "data": {
      "text/plain": [
       "Index(['전용면적(㎡)', '거래금액(만원)', '층', '총전입', '총전출', '주민등록인구수', '총생활인구수', '버스정류장수',\n",
       "       '버스정류장_거리', '지하철역 수', '지하철역_거리', '도로율', '지역내총생산', '월평균소득금액', '기준금리',\n",
       "       '소비자물가지수', '전세가율', '전월세전환율', '지가지수', '실거래가격지수', '소비심리지수', '음식점 수',\n",
       "       '카페 수', '편의점 수', '병원 수', '대형마트 수', '백화점 수', '5대범죄(총)', '경제활동인구 (천명)',\n",
       "       '피보험자수', '공원수', '공원_거리', '학교수', '학교_거리', '부동산', '부동산 매매', '부동산정책',\n",
       "       '㎡당_평균가격', '연식', '힐스테이트', '푸르지오', '더샵', 'e편한세상', '위브', '자이', '브랜드여부',\n",
       "       '법정동_Encoded', '재건축', '사업체'],\n",
       "      dtype='object')"
      ]
     },
     "execution_count": 17,
     "metadata": {},
     "output_type": "execute_result"
    }
   ],
   "source": [
    "ori_total_main.columns"
   ]
  },
  {
   "cell_type": "code",
   "execution_count": 18,
   "id": "07dba855-ae40-427e-a458-eacdc16583bc",
   "metadata": {
    "tags": []
   },
   "outputs": [],
   "source": [
    "ori_total_main = ori_total_main[ori_total_main['연식']!=-1]"
   ]
  },
  {
   "cell_type": "code",
   "execution_count": 19,
   "id": "221728ec-51ec-44df-a4f7-858a1e04bbd2",
   "metadata": {
    "tags": []
   },
   "outputs": [],
   "source": [
    "ori_total_main['전용면적_s'] = 0\n",
    "ori_total_main.loc[ori_total_main['전용면적(㎡)'] < ori_total_main['전용면적(㎡)'].quantile(0.2), '전용면적_s'] = 0\n",
    "ori_total_main.loc[(ori_total_main['전용면적(㎡)'] >= ori_total_main['전용면적(㎡)'].quantile(0.2)) & (ori_total_main['전용면적(㎡)'] < ori_total_main['전용면적(㎡)'].quantile(0.4)), '전용면적_s'] = 1\n",
    "ori_total_main.loc[(ori_total_main['전용면적(㎡)'] >= ori_total_main['전용면적(㎡)'].quantile(0.4)) & (ori_total_main['전용면적(㎡)'] < ori_total_main['전용면적(㎡)'].quantile(0.6)), '전용면적_s'] = 2\n",
    "ori_total_main.loc[(ori_total_main['전용면적(㎡)'] >= ori_total_main['전용면적(㎡)'].quantile(0.6)) & (ori_total_main['전용면적(㎡)'] < ori_total_main['전용면적(㎡)'].quantile(0.8)), '전용면적_s'] = 3\n",
    "ori_total_main.loc[ori_total_main['전용면적(㎡)'] >= ori_total_main['전용면적(㎡)'].quantile(0.8), '전용면적_s'] = 4"
   ]
  },
  {
   "cell_type": "code",
   "execution_count": 20,
   "id": "5f5e00bd-9eab-4cc8-bcf1-3a02c622ecd4",
   "metadata": {
    "tags": []
   },
   "outputs": [],
   "source": [
    "ori_total_main = ori_total_main[['거래금액(만원)', '백화점 수', '공원수', '사업체', '전용면적_s', '학교수', '월평균소득금액', '재건축', '연식', '지하철역 수', '병원 수',\n",
    "               '기준금리', '층', '피보험자수', '카페 수', '대형마트 수', '부동산정책', '법정동_Encoded', '공원_거리', '부동산 매매', '총전입', '총전출']]"
   ]
  },
  {
   "cell_type": "markdown",
   "id": "841ff205-284e-497d-bc17-b560d793be4b",
   "metadata": {},
   "source": [
    "### - 명목형 데이터 Encoding"
   ]
  },
  {
   "cell_type": "code",
   "execution_count": 21,
   "id": "ffbfd677-a273-4a3e-83c1-a9ea4af5910a",
   "metadata": {
    "tags": []
   },
   "outputs": [],
   "source": [
    "ori_total_main = ori_total_main.astype({'전용면적_s': str})"
   ]
  },
  {
   "cell_type": "code",
   "execution_count": 22,
   "id": "445a3968-83e4-4a2e-a618-0d02d3d3d0a5",
   "metadata": {
    "tags": []
   },
   "outputs": [],
   "source": [
    "from sklearn.preprocessing import OneHotEncoder"
   ]
  },
  {
   "cell_type": "code",
   "execution_count": 23,
   "id": "637b7a72-e8a9-410f-bbca-767d6528c2b6",
   "metadata": {
    "tags": []
   },
   "outputs": [
    {
     "data": {
      "text/plain": [
       "Index(['거래금액(만원)', '백화점 수', '공원수', '사업체', '전용면적_s', '학교수', '월평균소득금액', '재건축',\n",
       "       '연식', '지하철역 수', '병원 수', '기준금리', '층', '피보험자수', '카페 수', '대형마트 수', '부동산정책',\n",
       "       '법정동_Encoded', '공원_거리', '부동산 매매', '총전입', '총전출'],\n",
       "      dtype='object')"
      ]
     },
     "execution_count": 23,
     "metadata": {},
     "output_type": "execute_result"
    }
   ],
   "source": [
    "ori_total_main.columns"
   ]
  },
  {
   "cell_type": "code",
   "execution_count": 24,
   "id": "2245351b-daf0-419c-a5cf-e0165cfffb66",
   "metadata": {
    "tags": []
   },
   "outputs": [
    {
     "data": {
      "text/plain": [
       "['재건축',\n",
       " '학교수',\n",
       " '피보험자수',\n",
       " '공원_거리',\n",
       " '백화점 수',\n",
       " '사업체',\n",
       " '층',\n",
       " '부동산 매매',\n",
       " '기준금리',\n",
       " '총전입',\n",
       " '병원 수',\n",
       " '부동산정책',\n",
       " '지하철역 수',\n",
       " '월평균소득금액',\n",
       " '공원수',\n",
       " '대형마트 수',\n",
       " '총전출',\n",
       " '법정동_Encoded',\n",
       " '카페 수',\n",
       " '연식',\n",
       " '거래금액(만원)']"
      ]
     },
     "execution_count": 24,
     "metadata": {},
     "output_type": "execute_result"
    }
   ],
   "source": [
    "enc_cols = ['전용면적_s']\n",
    "normal_cols = list(set(ori_total_main.columns) - set(enc_cols))\n",
    "normal_cols"
   ]
  },
  {
   "cell_type": "code",
   "execution_count": 25,
   "id": "5c496522-4930-4092-b112-64c1ba83e369",
   "metadata": {
    "tags": []
   },
   "outputs": [
    {
     "name": "stdout",
     "output_type": "stream",
     "text": [
      "len_enc_cols: 1\n",
      "0\n"
     ]
    },
    {
     "data": {
      "text/plain": [
       "(292396, 26)"
      ]
     },
     "execution_count": 25,
     "metadata": {},
     "output_type": "execute_result"
    }
   ],
   "source": [
    "enc_cols = list(ori_total_main.select_dtypes(exclude=np.number).columns)\n",
    "print(f'len_enc_cols: {len(enc_cols)}')\n",
    "encoder = OneHotEncoder() \n",
    "enc_dfs = []\n",
    "\n",
    "for i, df in enumerate([ori_total_main]):\n",
    "  if not i:\n",
    "    _encoded = encoder.fit_transform(df[enc_cols])\n",
    "  else:\n",
    "    _encoded = encoder.transform(df[enc_cols])\n",
    "\n",
    "  _encoded_df = pd.DataFrame(\n",
    "    _encoded.toarray(), \n",
    "    columns = encoder.get_feature_names_out()\n",
    "  )\n",
    "\n",
    "  not_enc_cols = list(set(df.columns) - set(enc_cols))\n",
    "  enc_dfs.append(\n",
    "    pd.concat(\n",
    "      [df[not_enc_cols].reset_index(drop=True), _encoded_df.reset_index(drop=True)]\n",
    "      , axis=1\n",
    "    ).reset_index(drop=True)\n",
    "  )\n",
    "\n",
    "ori_total_main = enc_dfs[0]\n",
    "\n",
    "print(f'{ori_total_main.isnull().sum().sum()}')\n",
    "ori_total_main.shape"
   ]
  },
  {
   "cell_type": "code",
   "execution_count": 26,
   "id": "8440014e-cfcb-4161-991e-b68ab895715a",
   "metadata": {
    "tags": []
   },
   "outputs": [],
   "source": [
    "ori_total_main = ori_total_main.reset_index(drop=True)"
   ]
  },
  {
   "cell_type": "markdown",
   "id": "2a2dce35-15c5-42b8-b7be-0236517d736b",
   "metadata": {},
   "source": [
    "### - 수치형 데이터 Scaler"
   ]
  },
  {
   "cell_type": "code",
   "execution_count": 27,
   "id": "dbd00aaf-603a-4ce6-8bf3-9ca11dbc55c1",
   "metadata": {
    "tags": []
   },
   "outputs": [
    {
     "data": {
      "text/plain": [
       "['재건축',\n",
       " '전용면적_s_0',\n",
       " '전용면적_s_1',\n",
       " '전용면적_s_3',\n",
       " '전용면적_s_4',\n",
       " '법정동_Encoded',\n",
       " '전용면적_s_2',\n",
       " '거래금액(만원)']"
      ]
     },
     "execution_count": 27,
     "metadata": {},
     "output_type": "execute_result"
    }
   ],
   "source": [
    "scaling_cols = ['학교수', '부동산정책', '총전출', '사업체', '공원_거리', '월평균소득금액', '지하철역 수', '카페 수', '대형마트 수', '피보험자수',\n",
    "                 '층', '기준금리', '총전입', '부동산 매매', '백화점 수', '연식', '공원수', '병원 수']\n",
    "not_scaling_cols = list(set(ori_total_main.columns) - set(scaling_cols))\n",
    "not_scaling_cols "
   ]
  },
  {
   "cell_type": "code",
   "execution_count": 28,
   "id": "83ff4237-e30d-40af-a72a-3bda9d314205",
   "metadata": {
    "tags": []
   },
   "outputs": [],
   "source": [
    "from sklearn.preprocessing import RobustScaler"
   ]
  },
  {
   "cell_type": "code",
   "execution_count": 29,
   "id": "1b948b09-53ee-4142-8c6b-21727c4be0c0",
   "metadata": {
    "tags": []
   },
   "outputs": [],
   "source": [
    "scaler = RobustScaler()\n",
    "\n",
    "_scaled_tr = scaler.fit_transform(ori_total_main[scaling_cols])\n",
    "_scaled_te = scaler.transform(ori_total_main[scaling_cols])"
   ]
  },
  {
   "cell_type": "code",
   "execution_count": 30,
   "id": "97877d6c-cf50-4482-9aa8-67b16cac16df",
   "metadata": {
    "tags": []
   },
   "outputs": [
    {
     "name": "stdout",
     "output_type": "stream",
     "text": [
      "0\n"
     ]
    },
    {
     "data": {
      "text/plain": [
       "(292396, 26)"
      ]
     },
     "execution_count": 30,
     "metadata": {},
     "output_type": "execute_result"
    }
   ],
   "source": [
    "scaling_cols = ['학교수', '부동산정책', '총전출', '사업체', '공원_거리', '월평균소득금액', '지하철역 수', '카페 수', '대형마트 수', '피보험자수',\n",
    "                 '층', '기준금리', '총전입', '부동산 매매', '백화점 수', '연식', '공원수', '병원 수']\n",
    "scaler = RobustScaler()\n",
    "scaled_dfs = []\n",
    "\n",
    "for i, df in enumerate([ori_total_main]):\n",
    "  if not i:\n",
    "    _scaled = scaler.fit_transform(df[scaling_cols])\n",
    "  else:\n",
    "    _scaled = scaler.transform(df[scaling_cols])\n",
    "\n",
    "  _scaled_df = pd.DataFrame(\n",
    "    _scaled, \n",
    "    columns = scaling_cols\n",
    "  )\n",
    "\n",
    "  not_scaling_cols = list(set(df.columns) - set(scaling_cols))\n",
    "\n",
    "  scaled_dfs.append(\n",
    "    pd.concat(\n",
    "      [df[not_scaling_cols].reset_index(drop=True), _scaled_df.reset_index(drop=True)]\n",
    "      , axis=1\n",
    "    ).reset_index(drop=True)\n",
    "  )\n",
    "\n",
    "ori_total_main = scaled_dfs[0]\n",
    "\n",
    "print(f'{ori_total_main.isnull().sum().sum()}')\n",
    "ori_total_main.shape"
   ]
  },
  {
   "cell_type": "code",
   "execution_count": 31,
   "id": "4b8ca572-d35c-4195-b89d-33c7491ee49b",
   "metadata": {
    "tags": []
   },
   "outputs": [],
   "source": [
    "ori_total_main = ori_total_main[['거래금액(만원)', '월평균소득금액', '피보험자수', '전용면적_s_4', '전용면적_s_0', '기준금리', '연식',\n",
    "       '법정동_Encoded', '재건축', '부동산정책', '카페 수', '층', '전용면적_s_3', '병원 수',\n",
    "       '학교수', '전용면적_s_1', '사업체', '공원_거리', '부동산 매매', '지하철역 수', '백화점 수',\n",
    "       '총전출', '총전입', '전용면적_s_2', '공원수', '대형마트 수']]"
   ]
  },
  {
   "cell_type": "code",
   "execution_count": 32,
   "id": "8e9c47b3-a5ca-45eb-9bbd-87b5bf9947ed",
   "metadata": {
    "tags": []
   },
   "outputs": [],
   "source": [
    "ori_total_main_s1 = ori_total_main['거래금액(만원)']\n",
    "ori_total_main_s2 = ori_total_main.drop(['거래금액(만원)'], axis=1)"
   ]
  },
  {
   "cell_type": "code",
   "execution_count": 33,
   "id": "89efff1a-1fe6-46bb-bab8-b4a1388a4a6a",
   "metadata": {
    "tags": []
   },
   "outputs": [],
   "source": [
    "import joblib  # 모델 저장 및 불러오기\n",
    "from catboost import CatBoostRegressor"
   ]
  },
  {
   "cell_type": "code",
   "execution_count": 34,
   "id": "a0ddc274-cbf8-4bd4-9697-447249a201c1",
   "metadata": {
    "tags": []
   },
   "outputs": [
    {
     "data": {
      "text/plain": [
       "<catboost.core.CatBoostRegressor at 0x2ee0ab43010>"
      ]
     },
     "execution_count": 34,
     "metadata": {},
     "output_type": "execute_result"
    }
   ],
   "source": [
    "# 저장된 모델 불러오기\n",
    "loaded_model = CatBoostRegressor()\n",
    "loaded_model.load_model('CatBoost.cbm')"
   ]
  },
  {
   "cell_type": "code",
   "execution_count": 35,
   "id": "1b1dc7be-c99a-422a-950e-88da646702f3",
   "metadata": {
    "tags": []
   },
   "outputs": [
    {
     "data": {
      "text/plain": [
       "Index(['월평균소득금액', '피보험자수', '전용면적_s_4', '전용면적_s_0', '기준금리', '연식', '법정동_Encoded',\n",
       "       '재건축', '부동산정책', '카페 수', '층', '전용면적_s_3', '병원 수', '학교수', '전용면적_s_1',\n",
       "       '사업체', '공원_거리', '부동산 매매', '지하철역 수', '백화점 수', '총전출', '총전입', '전용면적_s_2',\n",
       "       '공원수', '대형마트 수'],\n",
       "      dtype='object')"
      ]
     },
     "execution_count": 35,
     "metadata": {},
     "output_type": "execute_result"
    }
   ],
   "source": [
    "ori_total_main_s2.columns"
   ]
  },
  {
   "cell_type": "code",
   "execution_count": 36,
   "id": "31303200-6188-4769-86ac-17a6e473bb7e",
   "metadata": {
    "tags": []
   },
   "outputs": [],
   "source": [
    "# 예측값 계산\n",
    "new_predictions = loaded_model.predict(ori_total_main_s2)"
   ]
  },
  {
   "cell_type": "code",
   "execution_count": 37,
   "id": "a262ebfb-d7f2-416c-93cc-970c5adcf023",
   "metadata": {
    "tags": []
   },
   "outputs": [],
   "source": [
    "# 예측값을 새로운 변수로 추가\n",
    "ori_total_main_s2['예측값'] = new_predictions"
   ]
  },
  {
   "cell_type": "code",
   "execution_count": 38,
   "id": "c2446a21-b852-48f3-bac6-9ccba57b9246",
   "metadata": {
    "tags": []
   },
   "outputs": [],
   "source": [
    "ori_total_main_final = pd.concat([ori_total_main_s1, ori_total_main_s2], axis=1)"
   ]
  },
  {
   "cell_type": "code",
   "execution_count": 39,
   "id": "e00bf94a-7c9f-4d8c-a6ae-d082ab13c3b1",
   "metadata": {
    "tags": []
   },
   "outputs": [],
   "source": [
    "# 출력 옵션 설정\n",
    "pd.options.display.float_format = '{:.6f}'.format\n",
    "\n",
    "ori_total_main_final['재평가정도'] = ori_total_main_final['예측값'] - ori_total_main_final['거래금액(만원)']"
   ]
  },
  {
   "cell_type": "code",
   "execution_count": 40,
   "id": "5d5534cf-7717-4fee-9545-3b62d91ebecb",
   "metadata": {
    "tags": []
   },
   "outputs": [
    {
     "data": {
      "text/html": [
       "<div>\n",
       "<style scoped>\n",
       "    .dataframe tbody tr th:only-of-type {\n",
       "        vertical-align: middle;\n",
       "    }\n",
       "\n",
       "    .dataframe tbody tr th {\n",
       "        vertical-align: top;\n",
       "    }\n",
       "\n",
       "    .dataframe thead th {\n",
       "        text-align: right;\n",
       "    }\n",
       "</style>\n",
       "<table border=\"1\" class=\"dataframe\">\n",
       "  <thead>\n",
       "    <tr style=\"text-align: right;\">\n",
       "      <th></th>\n",
       "      <th>거래금액(만원)</th>\n",
       "      <th>월평균소득금액</th>\n",
       "      <th>피보험자수</th>\n",
       "      <th>전용면적_s_4</th>\n",
       "      <th>전용면적_s_0</th>\n",
       "      <th>기준금리</th>\n",
       "      <th>연식</th>\n",
       "      <th>법정동_Encoded</th>\n",
       "      <th>재건축</th>\n",
       "      <th>부동산정책</th>\n",
       "      <th>...</th>\n",
       "      <th>부동산 매매</th>\n",
       "      <th>지하철역 수</th>\n",
       "      <th>백화점 수</th>\n",
       "      <th>총전출</th>\n",
       "      <th>총전입</th>\n",
       "      <th>전용면적_s_2</th>\n",
       "      <th>공원수</th>\n",
       "      <th>대형마트 수</th>\n",
       "      <th>예측값</th>\n",
       "      <th>재평가정도</th>\n",
       "    </tr>\n",
       "  </thead>\n",
       "  <tbody>\n",
       "    <tr>\n",
       "      <th>281147</th>\n",
       "      <td>1450000</td>\n",
       "      <td>1.336067</td>\n",
       "      <td>4.689128</td>\n",
       "      <td>1.000000</td>\n",
       "      <td>0.000000</td>\n",
       "      <td>1.600000</td>\n",
       "      <td>-1.230769</td>\n",
       "      <td>13</td>\n",
       "      <td>0</td>\n",
       "      <td>0.176270</td>\n",
       "      <td>...</td>\n",
       "      <td>0.205970</td>\n",
       "      <td>-0.333333</td>\n",
       "      <td>0.000000</td>\n",
       "      <td>-0.088004</td>\n",
       "      <td>-0.075435</td>\n",
       "      <td>0.000000</td>\n",
       "      <td>0.000000</td>\n",
       "      <td>0.000000</td>\n",
       "      <td>68161.947973</td>\n",
       "      <td>-1381838.052027</td>\n",
       "    </tr>\n",
       "  </tbody>\n",
       "</table>\n",
       "<p>1 rows × 28 columns</p>\n",
       "</div>"
      ],
      "text/plain": [
       "        거래금액(만원)  월평균소득금액    피보험자수  전용면적_s_4  전용면적_s_0     기준금리        연식  \\\n",
       "281147   1450000 1.336067 4.689128  1.000000  0.000000 1.600000 -1.230769   \n",
       "\n",
       "        법정동_Encoded  재건축    부동산정책  ...   부동산 매매    지하철역 수    백화점 수       총전출  \\\n",
       "281147           13    0 0.176270  ... 0.205970 -0.333333 0.000000 -0.088004   \n",
       "\n",
       "             총전입  전용면적_s_2      공원수   대형마트 수          예측값           재평가정도  \n",
       "281147 -0.075435  0.000000 0.000000 0.000000 68161.947973 -1381838.052027  \n",
       "\n",
       "[1 rows x 28 columns]"
      ]
     },
     "execution_count": 40,
     "metadata": {},
     "output_type": "execute_result"
    }
   ],
   "source": [
    "ori_total_main_final[ori_total_main_final['재평가정도'] == ori_total_main_final['재평가정도'].min()]"
   ]
  },
  {
   "cell_type": "code",
   "execution_count": 41,
   "id": "d72093aa-9b41-48a5-be98-305faf3021d6",
   "metadata": {
    "tags": []
   },
   "outputs": [
    {
     "data": {
      "text/plain": [
       "97022.20524462595"
      ]
     },
     "execution_count": 41,
     "metadata": {},
     "output_type": "execute_result"
    }
   ],
   "source": [
    "max(ori_total_main_final['재평가정도'])"
   ]
  },
  {
   "cell_type": "markdown",
   "id": "f8986e2d-02d5-4e3c-8e26-480587052979",
   "metadata": {},
   "source": [
    "# 3. 검증 & 예측 데이터 파일 생성"
   ]
  },
  {
   "cell_type": "code",
   "execution_count": 42,
   "id": "fe3dcc85-d078-489b-ad7d-e29c17a631ee",
   "metadata": {
    "tags": []
   },
   "outputs": [],
   "source": [
    "ori_total_main_val = pd.read_csv(args.default_path + 'real_final_master_data.csv')"
   ]
  },
  {
   "cell_type": "code",
   "execution_count": 43,
   "id": "aeb83646-13cf-40a9-813e-a802ef9edcfb",
   "metadata": {
    "tags": []
   },
   "outputs": [
    {
     "data": {
      "text/plain": [
       "0           0\n",
       "1           0\n",
       "2           0\n",
       "3           0\n",
       "4           0\n",
       "         ... \n",
       "292460    335\n",
       "292461    335\n",
       "292462    335\n",
       "292463    335\n",
       "292464    335\n",
       "Name: 법정동_Encoded, Length: 292465, dtype: int32"
      ]
     },
     "execution_count": 43,
     "metadata": {},
     "output_type": "execute_result"
    }
   ],
   "source": [
    "# Label Encoding을 위한 라이브러리 불러오기\n",
    "from sklearn.preprocessing import LabelEncoder\n",
    "\n",
    "# LabelEncoder 객체 생성 및 적용\n",
    "label_encoder = LabelEncoder()\n",
    "ori_total_main_val['법정동_Encoded'] = label_encoder.fit_transform(ori_total_main_val['자치구_법정동'])\n",
    "\n",
    "ori_total_main_val['법정동_Encoded']"
   ]
  },
  {
   "cell_type": "code",
   "execution_count": 44,
   "id": "5ec86cfb-9e00-4584-bac2-22691f3b0468",
   "metadata": {
    "tags": []
   },
   "outputs": [],
   "source": [
    "median_by_dong = ori_total_main_val.groupby('법정동')['거래금액(만원)'].median()\n",
    "ori_total_main_val['동별거래금액중앙값'] = ori_total_main_val['법정동'].map(median_by_dong)\n",
    "\n",
    "# '재건축' 컬럼 생성 및 값 할당\n",
    "ori_total_main_val['재건축'] = ori_total_main_val.apply(lambda row: 1 if (row['재건축 가능 여부'] == 1 and row['거래금액(만원)'] > row['동별거래금액중앙값']) else 0, axis=1)"
   ]
  },
  {
   "cell_type": "code",
   "execution_count": 47,
   "id": "bbd700a0-eb1a-4e6e-b21a-d4df28a71f5d",
   "metadata": {
    "tags": []
   },
   "outputs": [],
   "source": [
    "ori_total_main_val.loc[ori_total_main_val['단지명'].str.contains('힐스테이트'), '힐스테이트'] = 1\n",
    "ori_total_main_val.loc[ori_total_main_val['단지명'].str.contains('푸르지오'), '푸르지오'] = 1\n",
    "ori_total_main_val.loc[ori_total_main_val['단지명'].str.contains('더샵'), '더샵'] = 1\n",
    "ori_total_main_val.loc[ori_total_main_val['단지명'].str.contains('e편한세상'), 'e편한세상'] = 1\n",
    "ori_total_main_val.loc[ori_total_main_val['단지명'].str.contains('e-편한세상'), 'e편한세상'] = 1\n",
    "ori_total_main_val.loc[ori_total_main_val['단지명'].str.contains('이편한세상'), 'e편한세상'] = 1\n",
    "ori_total_main_val.loc[ori_total_main_val['단지명'].str.contains('이-편한세상'), 'e편한세상'] = 1\n",
    "ori_total_main_val.loc[ori_total_main_val['단지명'].str.contains('위브'), '위브'] = 1\n",
    "ori_total_main_val.loc[ori_total_main_val['단지명'].str.contains('자이'), '자이'] = 1"
   ]
  },
  {
   "cell_type": "code",
   "execution_count": 48,
   "id": "1ad6d560-bdb5-4273-9d9f-f1d2b193fb03",
   "metadata": {
    "tags": []
   },
   "outputs": [],
   "source": [
    "ori_total_main_val['㎡당_평균가격'] = ori_total_main_val['거래금액(만원)'] / ori_total_main_val['전용면적(㎡)']"
   ]
  },
  {
   "cell_type": "code",
   "execution_count": 49,
   "id": "5c847a6d-79a7-408f-a2d7-d5540273d124",
   "metadata": {
    "tags": []
   },
   "outputs": [
    {
     "name": "stderr",
     "output_type": "stream",
     "text": [
      "100%|████████████████████████████████████████████████████████████████████████████████████| 6/6 [00:00<00:00, 12.01it/s]\n"
     ]
    }
   ],
   "source": [
    "col=['힐스테이트', '푸르지오', '더샵', 'e편한세상', '위브', '자이']\n",
    "\n",
    "for i in tqdm(col):\n",
    "    ori_total_main_val[i]=ori_total_main_val[i].fillna(0)"
   ]
  },
  {
   "cell_type": "code",
   "execution_count": 50,
   "id": "c9c53c52-76f0-4a0f-8fc5-40f3ccefd65e",
   "metadata": {
    "tags": []
   },
   "outputs": [],
   "source": [
    "# 표준편차가 10000 이상으로 차이나는 아파트들만 1로 인식하는 새로운 컬럼 생성\n",
    "\n",
    "indices = ori_total_main_val[ori_total_main_val['단지명'].str.contains('힐스테이트|푸르지오|더샵|e편한세상|e-편한세상|이편한세상|이-편한세상|위브|자이')].index\n",
    "ori_total_main_val.loc[indices, '브랜드여부'] = 1\n",
    "\n",
    "ori_total_main_val.브랜드여부=ori_total_main_val.브랜드여부.fillna(0)"
   ]
  },
  {
   "cell_type": "markdown",
   "id": "d9f79348-8a0e-4310-aa6e-cb5e6911b66c",
   "metadata": {
    "tags": []
   },
   "source": [
    "데이터 정리"
   ]
  },
  {
   "cell_type": "code",
   "execution_count": 51,
   "id": "b6ebfffe-903b-4727-a533-1f41e41bc990",
   "metadata": {
    "tags": []
   },
   "outputs": [],
   "source": [
    "# 정수값을 양수로 변환하는 함수 정의\n",
    "def make_positive(value):\n",
    "    if value < 0:\n",
    "        return -value\n",
    "    return value"
   ]
  },
  {
   "cell_type": "code",
   "execution_count": 52,
   "id": "cf7e6b12-34a8-4265-80c3-5d15c958cb5a",
   "metadata": {
    "tags": []
   },
   "outputs": [],
   "source": [
    "# 특정 열에 있는 모든 값을 양수로 변환\n",
    "target_column = '층'\n",
    "ori_total_main_val[target_column] = ori_total_main_val[target_column].apply(make_positive)"
   ]
  },
  {
   "cell_type": "code",
   "execution_count": 53,
   "id": "55d5acf1-a228-4d3f-ac2d-8f098f1611d6",
   "metadata": {
    "tags": []
   },
   "outputs": [
    {
     "name": "stdout",
     "output_type": "stream",
     "text": [
      "(292465, 101)\n",
      "(292465, 82)\n"
     ]
    }
   ],
   "source": [
    "business_cols = ['건설업', '공공 행정, 국방 및 사회보장 행정', '광업','교육 서비스업', '금융 및 보험업', '농업, 임업 및 어업', '도매 및 소매업', '보건업 및 사회복지 서비스업',\n",
    "           '부동산업', '사업시설 관리, 사업 지원 및 임대 서비스업', '수도, 하수 및 폐기물 처리, 원료 재생업',\n",
    "           '숙박 및 음식점업', '예술, 스포츠 및 여가관련 서비스업', '운수 및 창고업',\n",
    "           '전기, 가스, 증기 및 공기 조절 공급업', '전문, 과학 및 기술 서비스업', '정보통신업', '제조업',\n",
    "           '협회 및 단체, 수리 및 기타 개인 서비스업']\n",
    "\n",
    "ori_total_main_val['사업체'] = ori_total_main_val[business_cols].apply(lambda cols : cols.sum(),axis = 1)\n",
    "\n",
    "#컬럼 제거\n",
    "print(ori_total_main_val.shape)\n",
    "ori_total_main_val.drop(business_cols, axis =1, inplace =True)\n",
    "\n",
    "print(ori_total_main_val.shape)"
   ]
  },
  {
   "cell_type": "code",
   "execution_count": 54,
   "id": "251f310f-324a-4591-93c4-fa1a3e2164ec",
   "metadata": {
    "tags": []
   },
   "outputs": [
    {
     "data": {
      "text/plain": [
       "Index(['Unnamed: 0', '시군구', '번지', '본번', '부번', '단지명', '전용면적(㎡)', '시점', '계약일',\n",
       "       '거래금액(만원)', '층', '건축년도', '도로명_apt', '시', '자치구', '법정동', '연도', '월',\n",
       "       '도로명주소', '지번주소', 'x', 'y', '자치구_법정동', '법정동코드', '총전입', '총전출', '주민등록인구수',\n",
       "       '총생활인구수', '정류장 ID', '정류소명', '도로명_bus', '버스정류장수', '버스정류장_거리',\n",
       "       '버스정류장_소요시간', '역사명', '지하철역 수', '지하철역_거리', '지하철역_소요시간', '도로율', '지역내총생산',\n",
       "       '월평균소득금액', '기준금리', '소비자물가지수', '전세가율', '전월세전환율', '지가지수', '실거래가격지수',\n",
       "       '소비심리지수', '음식점 수', '카페 수', '편의점 수', '병원 수', '대형마트 수', '백화점 수',\n",
       "       '5대범죄(총)', '경제활동인구 (천명)', '피보험자수', '공원수', '공원_거리', '공원_소요시간', '학교명',\n",
       "       '학교수', '학교_거리', '학교_소요시간', '부동산', '부동산 매매', '부동산정책', '평단가', '㎡당_평균가격',\n",
       "       '연식', '재건축 가능 여부', '힐스테이트', '푸르지오', '더샵', 'e편한세상', '위브', '자이', '브랜드여부',\n",
       "       '법정동_Encoded', '동별거래금액중앙값', '재건축', '사업체'],\n",
       "      dtype='object')"
      ]
     },
     "execution_count": 54,
     "metadata": {},
     "output_type": "execute_result"
    }
   ],
   "source": [
    "ori_total_main_val.columns"
   ]
  },
  {
   "cell_type": "code",
   "execution_count": 55,
   "id": "b9235715-27fb-412f-a70b-a338b977ec18",
   "metadata": {
    "tags": []
   },
   "outputs": [
    {
     "data": {
      "text/plain": [
       "Index(['거래금액(만원)', '월평균소득금액', '피보험자수', '전용면적_s_4', '전용면적_s_0', '기준금리', '연식',\n",
       "       '법정동_Encoded', '재건축', '부동산정책', '카페 수', '층', '전용면적_s_3', '병원 수', '학교수',\n",
       "       '전용면적_s_1', '사업체', '공원_거리', '부동산 매매', '지하철역 수', '백화점 수', '총전출', '총전입',\n",
       "       '전용면적_s_2', '공원수', '대형마트 수', '예측값', '재평가정도'],\n",
       "      dtype='object')"
      ]
     },
     "execution_count": 55,
     "metadata": {},
     "output_type": "execute_result"
    }
   ],
   "source": [
    "ori_total_main_final.columns"
   ]
  },
  {
   "cell_type": "code",
   "execution_count": 56,
   "id": "743b337c-db4f-4746-ae0b-d568149077d7",
   "metadata": {
    "tags": []
   },
   "outputs": [],
   "source": [
    "ori_total_main_val = ori_total_main_val[ori_total_main_val['연식']!=-1]"
   ]
  },
  {
   "cell_type": "code",
   "execution_count": 57,
   "id": "7ddb5fb5-beef-4f21-ad8d-9ec65fcf61f6",
   "metadata": {
    "tags": []
   },
   "outputs": [],
   "source": [
    "ori_total_main_val['전용면적_s'] = 0\n",
    "ori_total_main_val.loc[ori_total_main_val['전용면적(㎡)'] < ori_total_main_val['전용면적(㎡)'].quantile(0.2), '전용면적_s'] = 0\n",
    "ori_total_main_val.loc[(ori_total_main_val['전용면적(㎡)'] >= ori_total_main_val['전용면적(㎡)'].quantile(0.2)) & (ori_total_main_val['전용면적(㎡)'] < ori_total_main_val['전용면적(㎡)'].quantile(0.4)), '전용면적_s'] = 1\n",
    "ori_total_main_val.loc[(ori_total_main_val['전용면적(㎡)'] >= ori_total_main_val['전용면적(㎡)'].quantile(0.4)) & (ori_total_main_val['전용면적(㎡)'] < ori_total_main_val['전용면적(㎡)'].quantile(0.6)), '전용면적_s'] = 2\n",
    "ori_total_main_val.loc[(ori_total_main_val['전용면적(㎡)'] >= ori_total_main_val['전용면적(㎡)'].quantile(0.6)) & (ori_total_main_val['전용면적(㎡)'] < ori_total_main_val['전용면적(㎡)'].quantile(0.8)), '전용면적_s'] = 3\n",
    "ori_total_main_val.loc[ori_total_main_val['전용면적(㎡)'] >= ori_total_main_val['전용면적(㎡)'].quantile(0.8), '전용면적_s'] = 4"
   ]
  },
  {
   "cell_type": "code",
   "execution_count": 58,
   "id": "5ed708b7-dc01-42ae-906e-461eb2160dd8",
   "metadata": {
    "tags": []
   },
   "outputs": [],
   "source": [
    "ori_total_main_val = ori_total_main_val.reset_index(drop=True)"
   ]
  },
  {
   "cell_type": "code",
   "execution_count": 59,
   "id": "55a1bbef-7f93-4c0f-a159-f5f48df9414a",
   "metadata": {
    "tags": []
   },
   "outputs": [],
   "source": [
    "ori_total_main_final_s2 = ori_total_main_final.drop(['법정동_Encoded'], axis=1)"
   ]
  },
  {
   "cell_type": "code",
   "execution_count": 60,
   "id": "e0f8d23c-54e4-4136-b4cf-24855c6a4ada",
   "metadata": {
    "tags": []
   },
   "outputs": [
    {
     "name": "stdout",
     "output_type": "stream",
     "text": [
      "<class 'pandas.core.frame.DataFrame'>\n",
      "RangeIndex: 292396 entries, 0 to 292395\n",
      "Data columns (total 83 columns):\n",
      " #   Column       Non-Null Count   Dtype  \n",
      "---  ------       --------------   -----  \n",
      " 0   Unnamed: 0   292396 non-null  int64  \n",
      " 1   시군구          292396 non-null  object \n",
      " 2   번지           292396 non-null  object \n",
      " 3   본번           292396 non-null  float64\n",
      " 4   부번           292396 non-null  float64\n",
      " 5   단지명          292396 non-null  object \n",
      " 6   전용면적(㎡)      292396 non-null  float64\n",
      " 7   시점           292396 non-null  object \n",
      " 8   계약일          292396 non-null  int64  \n",
      " 9   거래금액(만원)     292396 non-null  int64  \n",
      " 10  층            292396 non-null  int64  \n",
      " 11  건축년도         292396 non-null  float64\n",
      " 12  도로명_apt      292396 non-null  object \n",
      " 13  시            292396 non-null  object \n",
      " 14  자치구          292396 non-null  object \n",
      " 15  법정동          292396 non-null  object \n",
      " 16  연도           292396 non-null  int64  \n",
      " 17  월            292396 non-null  int64  \n",
      " 18  도로명주소        292396 non-null  object \n",
      " 19  지번주소         292396 non-null  object \n",
      " 20  x            292396 non-null  float64\n",
      " 21  y            292396 non-null  float64\n",
      " 22  자치구_법정동      292396 non-null  object \n",
      " 23  법정동코드        292396 non-null  int64  \n",
      " 24  총전입          292396 non-null  float64\n",
      " 25  총전출          292396 non-null  float64\n",
      " 26  주민등록인구수      292396 non-null  float64\n",
      " 27  총생활인구수       292396 non-null  float64\n",
      " 28  정류장 ID       292396 non-null  object \n",
      " 29  정류소명         292396 non-null  object \n",
      " 30  도로명_bus      292396 non-null  object \n",
      " 31  버스정류장수       292396 non-null  float64\n",
      " 32  버스정류장_거리     292396 non-null  float64\n",
      " 33  버스정류장_소요시간   292396 non-null  float64\n",
      " 34  역사명          292396 non-null  object \n",
      " 35  지하철역 수       292396 non-null  float64\n",
      " 36  지하철역_거리      292396 non-null  float64\n",
      " 37  지하철역_소요시간    292396 non-null  float64\n",
      " 38  도로율          292396 non-null  float64\n",
      " 39  지역내총생산       292396 non-null  int64  \n",
      " 40  월평균소득금액      292396 non-null  int64  \n",
      " 41  기준금리         292396 non-null  float64\n",
      " 42  소비자물가지수      292396 non-null  float64\n",
      " 43  전세가율         292396 non-null  float64\n",
      " 44  전월세전환율       292396 non-null  float64\n",
      " 45  지가지수         292396 non-null  float64\n",
      " 46  실거래가격지수      292396 non-null  float64\n",
      " 47  소비심리지수       292396 non-null  float64\n",
      " 48  음식점 수        292396 non-null  int64  \n",
      " 49  카페 수         292396 non-null  int64  \n",
      " 50  편의점 수        292396 non-null  int64  \n",
      " 51  병원 수         292396 non-null  int64  \n",
      " 52  대형마트 수       292396 non-null  int64  \n",
      " 53  백화점 수        292396 non-null  int64  \n",
      " 54  5대범죄(총)      292396 non-null  int64  \n",
      " 55  경제활동인구 (천명)  292396 non-null  int64  \n",
      " 56  피보험자수        292396 non-null  int64  \n",
      " 57  공원수          292396 non-null  float64\n",
      " 58  공원_거리        292396 non-null  float64\n",
      " 59  공원_소요시간      292396 non-null  float64\n",
      " 60  학교명          292396 non-null  object \n",
      " 61  학교수          292396 non-null  float64\n",
      " 62  학교_거리        292396 non-null  float64\n",
      " 63  학교_소요시간      292396 non-null  float64\n",
      " 64  부동산          292396 non-null  float64\n",
      " 65  부동산 매매       292396 non-null  float64\n",
      " 66  부동산정책        292396 non-null  float64\n",
      " 67  평단가          292396 non-null  float64\n",
      " 68  ㎡당_평균가격      292396 non-null  float64\n",
      " 69  연식           292396 non-null  float64\n",
      " 70  재건축 가능 여부    292396 non-null  int64  \n",
      " 71  힐스테이트        292396 non-null  float64\n",
      " 72  푸르지오         292396 non-null  float64\n",
      " 73  더샵           292396 non-null  float64\n",
      " 74  e편한세상        292396 non-null  float64\n",
      " 75  위브           292396 non-null  float64\n",
      " 76  자이           292396 non-null  float64\n",
      " 77  브랜드여부        292396 non-null  int64  \n",
      " 78  법정동_Encoded  292396 non-null  int32  \n",
      " 79  동별거래금액중앙값    292396 non-null  float64\n",
      " 80  재건축          292396 non-null  int64  \n",
      " 81  사업체          292396 non-null  float64\n",
      " 82  전용면적_s       292396 non-null  int64  \n",
      "dtypes: float64(44), int32(1), int64(22), object(16)\n",
      "memory usage: 184.0+ MB\n"
     ]
    }
   ],
   "source": [
    "ori_total_main_val.info()"
   ]
  },
  {
   "cell_type": "code",
   "execution_count": 61,
   "id": "87cd49ce-1545-4661-a0fa-b7961885431b",
   "metadata": {
    "tags": []
   },
   "outputs": [
    {
     "name": "stdout",
     "output_type": "stream",
     "text": [
      "<class 'pandas.core.frame.DataFrame'>\n",
      "RangeIndex: 292396 entries, 0 to 292395\n",
      "Data columns (total 27 columns):\n",
      " #   Column    Non-Null Count   Dtype  \n",
      "---  ------    --------------   -----  \n",
      " 0   거래금액(만원)  292396 non-null  int64  \n",
      " 1   월평균소득금액   292396 non-null  float64\n",
      " 2   피보험자수     292396 non-null  float64\n",
      " 3   전용면적_s_4  292396 non-null  float64\n",
      " 4   전용면적_s_0  292396 non-null  float64\n",
      " 5   기준금리      292396 non-null  float64\n",
      " 6   연식        292396 non-null  float64\n",
      " 7   재건축       292396 non-null  int64  \n",
      " 8   부동산정책     292396 non-null  float64\n",
      " 9   카페 수      292396 non-null  float64\n",
      " 10  층         292396 non-null  float64\n",
      " 11  전용면적_s_3  292396 non-null  float64\n",
      " 12  병원 수      292396 non-null  float64\n",
      " 13  학교수       292396 non-null  float64\n",
      " 14  전용면적_s_1  292396 non-null  float64\n",
      " 15  사업체       292396 non-null  float64\n",
      " 16  공원_거리     292396 non-null  float64\n",
      " 17  부동산 매매    292396 non-null  float64\n",
      " 18  지하철역 수    292396 non-null  float64\n",
      " 19  백화점 수     292396 non-null  float64\n",
      " 20  총전출       292396 non-null  float64\n",
      " 21  총전입       292396 non-null  float64\n",
      " 22  전용면적_s_2  292396 non-null  float64\n",
      " 23  공원수       292396 non-null  float64\n",
      " 24  대형마트 수    292396 non-null  float64\n",
      " 25  예측값       292396 non-null  float64\n",
      " 26  재평가정도     292396 non-null  float64\n",
      "dtypes: float64(25), int64(2)\n",
      "memory usage: 60.2 MB\n"
     ]
    }
   ],
   "source": [
    "ori_total_main_final_s2.info()"
   ]
  },
  {
   "cell_type": "code",
   "execution_count": 62,
   "id": "0f4fdd05-bd7c-45d5-9631-7b329cc5d722",
   "metadata": {
    "tags": []
   },
   "outputs": [],
   "source": [
    "ori_total_main_final_s3 = pd.concat([ori_total_main_val, ori_total_main_final_s2[['예측값','재평가정도']]], axis=1)"
   ]
  },
  {
   "cell_type": "code",
   "execution_count": 63,
   "id": "609fce75-c7d6-44ed-b182-5ab90d0ce434",
   "metadata": {
    "tags": []
   },
   "outputs": [
    {
     "name": "stdout",
     "output_type": "stream",
     "text": [
      "<class 'pandas.core.frame.DataFrame'>\n",
      "RangeIndex: 292396 entries, 0 to 292395\n",
      "Data columns (total 85 columns):\n",
      " #   Column       Non-Null Count   Dtype  \n",
      "---  ------       --------------   -----  \n",
      " 0   Unnamed: 0   292396 non-null  int64  \n",
      " 1   시군구          292396 non-null  object \n",
      " 2   번지           292396 non-null  object \n",
      " 3   본번           292396 non-null  float64\n",
      " 4   부번           292396 non-null  float64\n",
      " 5   단지명          292396 non-null  object \n",
      " 6   전용면적(㎡)      292396 non-null  float64\n",
      " 7   시점           292396 non-null  object \n",
      " 8   계약일          292396 non-null  int64  \n",
      " 9   거래금액(만원)     292396 non-null  int64  \n",
      " 10  층            292396 non-null  int64  \n",
      " 11  건축년도         292396 non-null  float64\n",
      " 12  도로명_apt      292396 non-null  object \n",
      " 13  시            292396 non-null  object \n",
      " 14  자치구          292396 non-null  object \n",
      " 15  법정동          292396 non-null  object \n",
      " 16  연도           292396 non-null  int64  \n",
      " 17  월            292396 non-null  int64  \n",
      " 18  도로명주소        292396 non-null  object \n",
      " 19  지번주소         292396 non-null  object \n",
      " 20  x            292396 non-null  float64\n",
      " 21  y            292396 non-null  float64\n",
      " 22  자치구_법정동      292396 non-null  object \n",
      " 23  법정동코드        292396 non-null  int64  \n",
      " 24  총전입          292396 non-null  float64\n",
      " 25  총전출          292396 non-null  float64\n",
      " 26  주민등록인구수      292396 non-null  float64\n",
      " 27  총생활인구수       292396 non-null  float64\n",
      " 28  정류장 ID       292396 non-null  object \n",
      " 29  정류소명         292396 non-null  object \n",
      " 30  도로명_bus      292396 non-null  object \n",
      " 31  버스정류장수       292396 non-null  float64\n",
      " 32  버스정류장_거리     292396 non-null  float64\n",
      " 33  버스정류장_소요시간   292396 non-null  float64\n",
      " 34  역사명          292396 non-null  object \n",
      " 35  지하철역 수       292396 non-null  float64\n",
      " 36  지하철역_거리      292396 non-null  float64\n",
      " 37  지하철역_소요시간    292396 non-null  float64\n",
      " 38  도로율          292396 non-null  float64\n",
      " 39  지역내총생산       292396 non-null  int64  \n",
      " 40  월평균소득금액      292396 non-null  int64  \n",
      " 41  기준금리         292396 non-null  float64\n",
      " 42  소비자물가지수      292396 non-null  float64\n",
      " 43  전세가율         292396 non-null  float64\n",
      " 44  전월세전환율       292396 non-null  float64\n",
      " 45  지가지수         292396 non-null  float64\n",
      " 46  실거래가격지수      292396 non-null  float64\n",
      " 47  소비심리지수       292396 non-null  float64\n",
      " 48  음식점 수        292396 non-null  int64  \n",
      " 49  카페 수         292396 non-null  int64  \n",
      " 50  편의점 수        292396 non-null  int64  \n",
      " 51  병원 수         292396 non-null  int64  \n",
      " 52  대형마트 수       292396 non-null  int64  \n",
      " 53  백화점 수        292396 non-null  int64  \n",
      " 54  5대범죄(총)      292396 non-null  int64  \n",
      " 55  경제활동인구 (천명)  292396 non-null  int64  \n",
      " 56  피보험자수        292396 non-null  int64  \n",
      " 57  공원수          292396 non-null  float64\n",
      " 58  공원_거리        292396 non-null  float64\n",
      " 59  공원_소요시간      292396 non-null  float64\n",
      " 60  학교명          292396 non-null  object \n",
      " 61  학교수          292396 non-null  float64\n",
      " 62  학교_거리        292396 non-null  float64\n",
      " 63  학교_소요시간      292396 non-null  float64\n",
      " 64  부동산          292396 non-null  float64\n",
      " 65  부동산 매매       292396 non-null  float64\n",
      " 66  부동산정책        292396 non-null  float64\n",
      " 67  평단가          292396 non-null  float64\n",
      " 68  ㎡당_평균가격      292396 non-null  float64\n",
      " 69  연식           292396 non-null  float64\n",
      " 70  재건축 가능 여부    292396 non-null  int64  \n",
      " 71  힐스테이트        292396 non-null  float64\n",
      " 72  푸르지오         292396 non-null  float64\n",
      " 73  더샵           292396 non-null  float64\n",
      " 74  e편한세상        292396 non-null  float64\n",
      " 75  위브           292396 non-null  float64\n",
      " 76  자이           292396 non-null  float64\n",
      " 77  브랜드여부        292396 non-null  int64  \n",
      " 78  법정동_Encoded  292396 non-null  int32  \n",
      " 79  동별거래금액중앙값    292396 non-null  float64\n",
      " 80  재건축          292396 non-null  int64  \n",
      " 81  사업체          292396 non-null  float64\n",
      " 82  전용면적_s       292396 non-null  int64  \n",
      " 83  예측값          292396 non-null  float64\n",
      " 84  재평가정도        292396 non-null  float64\n",
      "dtypes: float64(46), int32(1), int64(22), object(16)\n",
      "memory usage: 188.5+ MB\n"
     ]
    }
   ],
   "source": [
    "ori_total_main_final_s3.info()"
   ]
  },
  {
   "cell_type": "code",
   "execution_count": 64,
   "id": "b6a9dfb1-c1cc-418b-b72e-ce5d3623b561",
   "metadata": {
    "tags": []
   },
   "outputs": [
    {
     "data": {
      "text/html": [
       "<div>\n",
       "<style scoped>\n",
       "    .dataframe tbody tr th:only-of-type {\n",
       "        vertical-align: middle;\n",
       "    }\n",
       "\n",
       "    .dataframe tbody tr th {\n",
       "        vertical-align: top;\n",
       "    }\n",
       "\n",
       "    .dataframe thead th {\n",
       "        text-align: right;\n",
       "    }\n",
       "</style>\n",
       "<table border=\"1\" class=\"dataframe\">\n",
       "  <thead>\n",
       "    <tr style=\"text-align: right;\">\n",
       "      <th></th>\n",
       "      <th>Unnamed: 0</th>\n",
       "      <th>시군구</th>\n",
       "      <th>번지</th>\n",
       "      <th>본번</th>\n",
       "      <th>부번</th>\n",
       "      <th>단지명</th>\n",
       "      <th>전용면적(㎡)</th>\n",
       "      <th>시점</th>\n",
       "      <th>계약일</th>\n",
       "      <th>거래금액(만원)</th>\n",
       "      <th>...</th>\n",
       "      <th>위브</th>\n",
       "      <th>자이</th>\n",
       "      <th>브랜드여부</th>\n",
       "      <th>법정동_Encoded</th>\n",
       "      <th>동별거래금액중앙값</th>\n",
       "      <th>재건축</th>\n",
       "      <th>사업체</th>\n",
       "      <th>전용면적_s</th>\n",
       "      <th>예측값</th>\n",
       "      <th>재평가정도</th>\n",
       "    </tr>\n",
       "  </thead>\n",
       "  <tbody>\n",
       "    <tr>\n",
       "      <th>155795</th>\n",
       "      <td>155844</td>\n",
       "      <td>서울특별시 중랑구 신내동</td>\n",
       "      <td>616-1</td>\n",
       "      <td>616.000000</td>\n",
       "      <td>1.000000</td>\n",
       "      <td>월드크라운</td>\n",
       "      <td>110.470000</td>\n",
       "      <td>2019-12-01</td>\n",
       "      <td>24</td>\n",
       "      <td>29000</td>\n",
       "      <td>...</td>\n",
       "      <td>0.000000</td>\n",
       "      <td>0.000000</td>\n",
       "      <td>0</td>\n",
       "      <td>334</td>\n",
       "      <td>43800.000000</td>\n",
       "      <td>0</td>\n",
       "      <td>4811.000000</td>\n",
       "      <td>4</td>\n",
       "      <td>126022.205245</td>\n",
       "      <td>97022.205245</td>\n",
       "    </tr>\n",
       "  </tbody>\n",
       "</table>\n",
       "<p>1 rows × 85 columns</p>\n",
       "</div>"
      ],
      "text/plain": [
       "        Unnamed: 0            시군구     번지         본번       부번    단지명  \\\n",
       "155795      155844  서울특별시 중랑구 신내동  616-1 616.000000 1.000000  월드크라운   \n",
       "\n",
       "          전용면적(㎡)          시점  계약일  거래금액(만원)  ...       위브       자이 브랜드여부  \\\n",
       "155795 110.470000  2019-12-01   24     29000  ... 0.000000 0.000000     0   \n",
       "\n",
       "       법정동_Encoded    동별거래금액중앙값 재건축         사업체  전용면적_s           예측값  \\\n",
       "155795         334 43800.000000   0 4811.000000       4 126022.205245   \n",
       "\n",
       "              재평가정도  \n",
       "155795 97022.205245  \n",
       "\n",
       "[1 rows x 85 columns]"
      ]
     },
     "execution_count": 64,
     "metadata": {},
     "output_type": "execute_result"
    }
   ],
   "source": [
    "ori_total_main_final_s3[ori_total_main_final_s3['재평가정도'] == ori_total_main_final_s3['재평가정도'].max()]"
   ]
  },
  {
   "cell_type": "code",
   "execution_count": 65,
   "id": "b5576784-69b7-43ca-b21e-e74722afded4",
   "metadata": {
    "tags": []
   },
   "outputs": [],
   "source": [
    "ori_total_main_final_s3 = ori_total_main_final_s3.drop(['Unnamed: 0'], axis=1)"
   ]
  },
  {
   "cell_type": "code",
   "execution_count": 66,
   "id": "7b4c9bf2-48c7-4a9d-9df9-c5755a14e2ca",
   "metadata": {
    "tags": []
   },
   "outputs": [],
   "source": [
    "ori_total_main_final_s3.to_csv('apt_Prediction_Evaluation.csv', index=False)"
   ]
  },
  {
   "cell_type": "code",
   "execution_count": null,
   "id": "792c237e-68f5-46b2-a866-f2c2775df746",
   "metadata": {},
   "outputs": [],
   "source": []
  }
 ],
 "metadata": {
  "kernelspec": {
   "display_name": "Python 3 (ipykernel)",
   "language": "python",
   "name": "python3"
  },
  "language_info": {
   "codemirror_mode": {
    "name": "ipython",
    "version": 3
   },
   "file_extension": ".py",
   "mimetype": "text/x-python",
   "name": "python",
   "nbconvert_exporter": "python",
   "pygments_lexer": "ipython3",
   "version": "3.11.3"
  }
 },
 "nbformat": 4,
 "nbformat_minor": 5
}
